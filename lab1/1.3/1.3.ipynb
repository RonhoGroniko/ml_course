{
  "metadata": {
    "kernelspec": {
      "name": "python",
      "display_name": "Python (Pyodide)",
      "language": "python"
    },
    "language_info": {
      "codemirror_mode": {
        "name": "python",
        "version": 3
      },
      "file_extension": ".py",
      "mimetype": "text/x-python",
      "name": "python",
      "nbconvert_exporter": "python",
      "pygments_lexer": "ipython3",
      "version": "3.8"
    }
  },
  "nbformat_minor": 5,
  "nbformat": 4,
  "cells": [
    {
      "id": "eba924bc-4412-42e9-b9a6-11be5bc820f7",
      "cell_type": "code",
      "source": "import pandas as pd \nimport numpy as np \nfrom sklearn.metrics import mean_absolute_error, r2_score, mean_absolute_percentage_error",
      "metadata": {
        "trusted": true
      },
      "outputs": [],
      "execution_count": 27
    },
    {
      "id": "1a085e02-b14f-4d97-b63a-641dd1c431a8",
      "cell_type": "code",
      "source": "dataset = pd.read_csv('student_scores.csv')",
      "metadata": {
        "trusted": true
      },
      "outputs": [],
      "execution_count": 28
    },
    {
      "id": "ff886cd0-df58-4ff6-ae97-c650bb9e6031",
      "cell_type": "code",
      "source": "X = dataset.iloc[:, :-1].values \ny = dataset.iloc[:, 1].values",
      "metadata": {
        "trusted": true
      },
      "outputs": [],
      "execution_count": 29
    },
    {
      "id": "7c490683-16a3-42f5-ad25-908f3c532c64",
      "cell_type": "code",
      "source": "from sklearn.model_selection import train_test_split \nX_train, X_test, y_train, y_test = train_test_split(X, y, test_size=0.2, random_state=0)",
      "metadata": {
        "trusted": true
      },
      "outputs": [],
      "execution_count": 30
    },
    {
      "id": "52b83e4a-5b1d-4035-a9de-32564997d893",
      "cell_type": "code",
      "source": "from sklearn.linear_model import LinearRegression \nregressor = LinearRegression() \nregressor.fit(X_train, y_train)\ny_pred = regressor.predict(X_test)",
      "metadata": {
        "trusted": true
      },
      "outputs": [],
      "execution_count": 31
    },
    {
      "id": "02759c7c-f0a2-4ee2-8723-99955d47fc15",
      "cell_type": "code",
      "source": "print(regressor.intercept_)\nprint(regressor.coef_)",
      "metadata": {
        "trusted": true
      },
      "outputs": [
        {
          "name": "stdout",
          "output_type": "stream",
          "text": "2.018160041434662\n[9.91065648]\n"
        }
      ],
      "execution_count": 32
    },
    {
      "id": "1c26fb83-f65b-438d-8600-27db08fb6f48",
      "cell_type": "code",
      "source": "print(f\"MAE: {mean_absolute_error(y_test, y_pred)}\")\nprint(f\"R2: {r2_score(y_test, y_pred)}\")\nprint(f\"MAPE: {mean_absolute_percentage_error(y_test, y_pred)}\")",
      "metadata": {
        "trusted": true
      },
      "outputs": [
        {
          "name": "stdout",
          "output_type": "stream",
          "text": "MAE: 4.183859899002982\nR2: 0.9454906892105354\nMAPE: 0.12568891617045685\n"
        }
      ],
      "execution_count": 33
    },
    {
      "id": "a86172f9-d452-4aac-8ce3-061a8c62e65b",
      "cell_type": "markdown",
      "source": "Модель обладает хорошей точностью. R2 -> 1, MAPE < 20%, MAE ~ 4 хорошее значение для нашей модели.",
      "metadata": {}
    },
    {
      "id": "b562208e-10ff-4a58-9b2c-d87bd19667cc",
      "cell_type": "code",
      "source": "from sklearn import datasets\ndiabetes = datasets.load_diabetes()\ndf = pd.DataFrame(diabetes.data, columns = diabetes.feature_names)\ndf['target'] = diabetes.target",
      "metadata": {
        "trusted": true
      },
      "outputs": [],
      "execution_count": 34
    },
    {
      "id": "3d4dd173-766d-4065-a426-56a9e85013f4",
      "cell_type": "code",
      "source": "X = df[\"bmi\"].values.reshape(-1,1)\ny = df[\"target\"].values\nX_train, X_test, y_train, y_test = train_test_split(X, y, test_size=0.2, random_state=0)",
      "metadata": {
        "trusted": true
      },
      "outputs": [],
      "execution_count": 35
    },
    {
      "id": "0f82c32d-6145-4cc1-b8b5-51a0328bfaa7",
      "cell_type": "code",
      "source": "regressor = LinearRegression() \nregressor.fit(X_train, y_train)\ny_pred = regressor.predict(X_test)",
      "metadata": {
        "trusted": true
      },
      "outputs": [],
      "execution_count": 36
    },
    {
      "id": "2502c47c-7c4b-4600-943c-08e086eded0e",
      "cell_type": "code",
      "source": "print(regressor.intercept_)\nprint(regressor.coef_)",
      "metadata": {
        "trusted": true
      },
      "outputs": [
        {
          "name": "stdout",
          "output_type": "stream",
          "text": "152.28824927379569\n[981.65543614]\n"
        }
      ],
      "execution_count": 37
    },
    {
      "id": "7a35738c-a4e4-4b46-bdf7-bca02d42fe48",
      "cell_type": "code",
      "source": "print(f\"MAE: {mean_absolute_error(y_test, y_pred)}\")\nprint(f\"R2: {r2_score(y_test, y_pred)}\")\nprint(f\"MAPE: {mean_absolute_percentage_error(y_test, y_pred)}\")",
      "metadata": {
        "trusted": true
      },
      "outputs": [
        {
          "name": "stdout",
          "output_type": "stream",
          "text": "MAE: 52.94370285288119\nR2: 0.19057346847560108\nMAPE: 0.4516904624956549\n"
        }
      ],
      "execution_count": 38
    },
    {
      "id": "ced36d47-046d-4997-871e-5ab5fae3b758",
      "cell_type": "markdown",
      "source": "Модель имеет плохую точность. R2 не близко к 1, MAE ~ 53 - довольно заметная ошибка, но приемлимая. MAPE ~ 45% указывает на то, что модель ошибается почти на половину значения target.\nНа графике видно, что четкой плотной корреляции между BMI и target нет.",
      "metadata": {}
    }
  ]
}