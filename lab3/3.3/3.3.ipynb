{
 "cells":[
  {
   "cell_type":"code",
   "source":[
    "import pandas as pd"
   ],
   "execution_count":30,
   "outputs":[],
   "metadata":{
    "datalore":{
     "node_id":"WgJny4LuIfdcxwOU99P6GM",
     "type":"CODE",
     "hide_input_from_viewers":true,
     "hide_output_from_viewers":true
    }
   }
  },
  {
   "cell_type":"code",
   "source":[
    "df = pd.read_csv('Titanic.csv')\n",
    "df"
   ],
   "execution_count":31,
   "outputs":[
    {
     "data":{
      "text\/html":[
       "<div>\n",
       "<style scoped>\n",
       "    .dataframe tbody tr th:only-of-type {\n",
       "        vertical-align: middle;\n",
       "    }\n",
       "\n",
       "    .dataframe tbody tr th {\n",
       "        vertical-align: top;\n",
       "    }\n",
       "\n",
       "    .dataframe thead th {\n",
       "        text-align: right;\n",
       "    }\n",
       "<\/style>\n",
       "<table border=\"1\" class=\"dataframe\">\n",
       "  <thead>\n",
       "    <tr style=\"text-align: right;\">\n",
       "      <th><\/th>\n",
       "      <th>PassengerId<\/th>\n",
       "      <th>Survived<\/th>\n",
       "      <th>Pclass<\/th>\n",
       "      <th>Name<\/th>\n",
       "      <th>Sex<\/th>\n",
       "      <th>Age<\/th>\n",
       "      <th>SibSp<\/th>\n",
       "      <th>Parch<\/th>\n",
       "      <th>Ticket<\/th>\n",
       "      <th>Fare<\/th>\n",
       "      <th>Cabin<\/th>\n",
       "      <th>Embarked<\/th>\n",
       "    <\/tr>\n",
       "  <\/thead>\n",
       "  <tbody>\n",
       "    <tr>\n",
       "      <th>0<\/th>\n",
       "      <td>1<\/td>\n",
       "      <td>0<\/td>\n",
       "      <td>3<\/td>\n",
       "      <td>Braund, Mr. Owen Harris<\/td>\n",
       "      <td>male<\/td>\n",
       "      <td>22.0<\/td>\n",
       "      <td>1<\/td>\n",
       "      <td>0<\/td>\n",
       "      <td>A\/5 21171<\/td>\n",
       "      <td>7.2500<\/td>\n",
       "      <td>NaN<\/td>\n",
       "      <td>S<\/td>\n",
       "    <\/tr>\n",
       "    <tr>\n",
       "      <th>1<\/th>\n",
       "      <td>2<\/td>\n",
       "      <td>1<\/td>\n",
       "      <td>1<\/td>\n",
       "      <td>Cumings, Mrs. John Bradley (Florence Briggs Th...<\/td>\n",
       "      <td>female<\/td>\n",
       "      <td>38.0<\/td>\n",
       "      <td>1<\/td>\n",
       "      <td>0<\/td>\n",
       "      <td>PC 17599<\/td>\n",
       "      <td>71.2833<\/td>\n",
       "      <td>C85<\/td>\n",
       "      <td>C<\/td>\n",
       "    <\/tr>\n",
       "    <tr>\n",
       "      <th>2<\/th>\n",
       "      <td>3<\/td>\n",
       "      <td>1<\/td>\n",
       "      <td>3<\/td>\n",
       "      <td>Heikkinen, Miss. Laina<\/td>\n",
       "      <td>female<\/td>\n",
       "      <td>26.0<\/td>\n",
       "      <td>0<\/td>\n",
       "      <td>0<\/td>\n",
       "      <td>STON\/O2. 3101282<\/td>\n",
       "      <td>7.9250<\/td>\n",
       "      <td>NaN<\/td>\n",
       "      <td>S<\/td>\n",
       "    <\/tr>\n",
       "    <tr>\n",
       "      <th>3<\/th>\n",
       "      <td>4<\/td>\n",
       "      <td>1<\/td>\n",
       "      <td>1<\/td>\n",
       "      <td>Futrelle, Mrs. Jacques Heath (Lily May Peel)<\/td>\n",
       "      <td>female<\/td>\n",
       "      <td>35.0<\/td>\n",
       "      <td>1<\/td>\n",
       "      <td>0<\/td>\n",
       "      <td>113803<\/td>\n",
       "      <td>53.1000<\/td>\n",
       "      <td>C123<\/td>\n",
       "      <td>S<\/td>\n",
       "    <\/tr>\n",
       "    <tr>\n",
       "      <th>4<\/th>\n",
       "      <td>5<\/td>\n",
       "      <td>0<\/td>\n",
       "      <td>3<\/td>\n",
       "      <td>Allen, Mr. William Henry<\/td>\n",
       "      <td>male<\/td>\n",
       "      <td>35.0<\/td>\n",
       "      <td>0<\/td>\n",
       "      <td>0<\/td>\n",
       "      <td>373450<\/td>\n",
       "      <td>8.0500<\/td>\n",
       "      <td>NaN<\/td>\n",
       "      <td>S<\/td>\n",
       "    <\/tr>\n",
       "    <tr>\n",
       "      <th>...<\/th>\n",
       "      <td>...<\/td>\n",
       "      <td>...<\/td>\n",
       "      <td>...<\/td>\n",
       "      <td>...<\/td>\n",
       "      <td>...<\/td>\n",
       "      <td>...<\/td>\n",
       "      <td>...<\/td>\n",
       "      <td>...<\/td>\n",
       "      <td>...<\/td>\n",
       "      <td>...<\/td>\n",
       "      <td>...<\/td>\n",
       "      <td>...<\/td>\n",
       "    <\/tr>\n",
       "    <tr>\n",
       "      <th>886<\/th>\n",
       "      <td>887<\/td>\n",
       "      <td>0<\/td>\n",
       "      <td>2<\/td>\n",
       "      <td>Montvila, Rev. Juozas<\/td>\n",
       "      <td>male<\/td>\n",
       "      <td>27.0<\/td>\n",
       "      <td>0<\/td>\n",
       "      <td>0<\/td>\n",
       "      <td>211536<\/td>\n",
       "      <td>13.0000<\/td>\n",
       "      <td>NaN<\/td>\n",
       "      <td>S<\/td>\n",
       "    <\/tr>\n",
       "    <tr>\n",
       "      <th>887<\/th>\n",
       "      <td>888<\/td>\n",
       "      <td>1<\/td>\n",
       "      <td>1<\/td>\n",
       "      <td>Graham, Miss. Margaret Edith<\/td>\n",
       "      <td>female<\/td>\n",
       "      <td>19.0<\/td>\n",
       "      <td>0<\/td>\n",
       "      <td>0<\/td>\n",
       "      <td>112053<\/td>\n",
       "      <td>30.0000<\/td>\n",
       "      <td>B42<\/td>\n",
       "      <td>S<\/td>\n",
       "    <\/tr>\n",
       "    <tr>\n",
       "      <th>888<\/th>\n",
       "      <td>889<\/td>\n",
       "      <td>0<\/td>\n",
       "      <td>3<\/td>\n",
       "      <td>Johnston, Miss. Catherine Helen \"Carrie\"<\/td>\n",
       "      <td>female<\/td>\n",
       "      <td>NaN<\/td>\n",
       "      <td>1<\/td>\n",
       "      <td>2<\/td>\n",
       "      <td>W.\/C. 6607<\/td>\n",
       "      <td>23.4500<\/td>\n",
       "      <td>NaN<\/td>\n",
       "      <td>S<\/td>\n",
       "    <\/tr>\n",
       "    <tr>\n",
       "      <th>889<\/th>\n",
       "      <td>890<\/td>\n",
       "      <td>1<\/td>\n",
       "      <td>1<\/td>\n",
       "      <td>Behr, Mr. Karl Howell<\/td>\n",
       "      <td>male<\/td>\n",
       "      <td>26.0<\/td>\n",
       "      <td>0<\/td>\n",
       "      <td>0<\/td>\n",
       "      <td>111369<\/td>\n",
       "      <td>30.0000<\/td>\n",
       "      <td>C148<\/td>\n",
       "      <td>C<\/td>\n",
       "    <\/tr>\n",
       "    <tr>\n",
       "      <th>890<\/th>\n",
       "      <td>891<\/td>\n",
       "      <td>0<\/td>\n",
       "      <td>3<\/td>\n",
       "      <td>Dooley, Mr. Patrick<\/td>\n",
       "      <td>male<\/td>\n",
       "      <td>32.0<\/td>\n",
       "      <td>0<\/td>\n",
       "      <td>0<\/td>\n",
       "      <td>370376<\/td>\n",
       "      <td>7.7500<\/td>\n",
       "      <td>NaN<\/td>\n",
       "      <td>Q<\/td>\n",
       "    <\/tr>\n",
       "  <\/tbody>\n",
       "<\/table>\n",
       "<p>891 rows × 12 columns<\/p>\n",
       "<\/div>"
      ]
     },
     "metadata":{},
     "output_type":"display_data"
    }
   ],
   "metadata":{
    "datalore":{
     "node_id":"5rhoslkvMRGxmEsnuqKyrd",
     "type":"CODE",
     "hide_input_from_viewers":true,
     "hide_output_from_viewers":true
    }
   }
  },
  {
   "cell_type":"code",
   "source":[
    "df_clean = df.dropna()\n",
    "df_clean.dtypes"
   ],
   "execution_count":32,
   "outputs":[
    {
     "data":{
      "text\/html":[
       "<pre>PassengerId      int64\n",
       "Survived         int64\n",
       "Pclass           int64\n",
       "Name            object\n",
       "Sex             object\n",
       "Age            float64\n",
       "SibSp            int64\n",
       "Parch            int64\n",
       "Ticket          object\n",
       "Fare           float64\n",
       "Cabin           object\n",
       "Embarked        object\n",
       "dtype: object<\/pre>"
      ]
     },
     "metadata":{},
     "output_type":"display_data"
    }
   ],
   "metadata":{
    "datalore":{
     "node_id":"cl4vPVnaOePfua9Lmcs6zr",
     "type":"CODE",
     "hide_input_from_viewers":true,
     "hide_output_from_viewers":true
    }
   }
  },
  {
   "cell_type":"code",
   "source":[
    "df_clean = df_clean.drop([\"Name\", \"Ticket\",\"Cabin\"], axis=1)"
   ],
   "execution_count":33,
   "outputs":[],
   "metadata":{
    "datalore":{
     "node_id":"tQ2f2oUnSRvle9py9slSRH",
     "type":"CODE",
     "hide_input_from_viewers":true,
     "hide_output_from_viewers":true
    }
   }
  },
  {
   "cell_type":"code",
   "source":[
    "df_clean['Sex'] = df_clean['Sex'].map({'male': 0, 'female': 1})\n",
    "df_clean['Embarked'] = df_clean['Embarked'].map({'C': 1, 'Q': 2, 'S': 3})"
   ],
   "execution_count":34,
   "outputs":[],
   "metadata":{
    "datalore":{
     "node_id":"QwAb6EeVKHNodgW4SxnT5e",
     "type":"CODE",
     "hide_input_from_viewers":true,
     "hide_output_from_viewers":true
    }
   }
  },
  {
   "cell_type":"code",
   "source":[
    "df_clean = df_clean.drop([\"PassengerId\"], axis=1)\n",
    "\n",
    "lost_percentage = (1 - df_clean.shape[0] *df_clean.shape[1] \/ df.shape[0] \/ df.shape[1]) * 100\n",
    "print(f\"Процент потерянных данных: {lost_percentage}%\")\n",
    "\n",
    "df_clean"
   ],
   "execution_count":35,
   "outputs":[
    {
     "name":"stdout",
     "text":[
      "Процент потерянных данных: 86.30751964085297%\n"
     ],
     "output_type":"stream"
    },
    {
     "data":{
      "text\/html":[
       "<div>\n",
       "<style scoped>\n",
       "    .dataframe tbody tr th:only-of-type {\n",
       "        vertical-align: middle;\n",
       "    }\n",
       "\n",
       "    .dataframe tbody tr th {\n",
       "        vertical-align: top;\n",
       "    }\n",
       "\n",
       "    .dataframe thead th {\n",
       "        text-align: right;\n",
       "    }\n",
       "<\/style>\n",
       "<table border=\"1\" class=\"dataframe\">\n",
       "  <thead>\n",
       "    <tr style=\"text-align: right;\">\n",
       "      <th><\/th>\n",
       "      <th>Survived<\/th>\n",
       "      <th>Pclass<\/th>\n",
       "      <th>Sex<\/th>\n",
       "      <th>Age<\/th>\n",
       "      <th>SibSp<\/th>\n",
       "      <th>Parch<\/th>\n",
       "      <th>Fare<\/th>\n",
       "      <th>Embarked<\/th>\n",
       "    <\/tr>\n",
       "  <\/thead>\n",
       "  <tbody>\n",
       "    <tr>\n",
       "      <th>1<\/th>\n",
       "      <td>1<\/td>\n",
       "      <td>1<\/td>\n",
       "      <td>1<\/td>\n",
       "      <td>38.0<\/td>\n",
       "      <td>1<\/td>\n",
       "      <td>0<\/td>\n",
       "      <td>71.2833<\/td>\n",
       "      <td>1<\/td>\n",
       "    <\/tr>\n",
       "    <tr>\n",
       "      <th>3<\/th>\n",
       "      <td>1<\/td>\n",
       "      <td>1<\/td>\n",
       "      <td>1<\/td>\n",
       "      <td>35.0<\/td>\n",
       "      <td>1<\/td>\n",
       "      <td>0<\/td>\n",
       "      <td>53.1000<\/td>\n",
       "      <td>3<\/td>\n",
       "    <\/tr>\n",
       "    <tr>\n",
       "      <th>6<\/th>\n",
       "      <td>0<\/td>\n",
       "      <td>1<\/td>\n",
       "      <td>0<\/td>\n",
       "      <td>54.0<\/td>\n",
       "      <td>0<\/td>\n",
       "      <td>0<\/td>\n",
       "      <td>51.8625<\/td>\n",
       "      <td>3<\/td>\n",
       "    <\/tr>\n",
       "    <tr>\n",
       "      <th>10<\/th>\n",
       "      <td>1<\/td>\n",
       "      <td>3<\/td>\n",
       "      <td>1<\/td>\n",
       "      <td>4.0<\/td>\n",
       "      <td>1<\/td>\n",
       "      <td>1<\/td>\n",
       "      <td>16.7000<\/td>\n",
       "      <td>3<\/td>\n",
       "    <\/tr>\n",
       "    <tr>\n",
       "      <th>11<\/th>\n",
       "      <td>1<\/td>\n",
       "      <td>1<\/td>\n",
       "      <td>1<\/td>\n",
       "      <td>58.0<\/td>\n",
       "      <td>0<\/td>\n",
       "      <td>0<\/td>\n",
       "      <td>26.5500<\/td>\n",
       "      <td>3<\/td>\n",
       "    <\/tr>\n",
       "    <tr>\n",
       "      <th>...<\/th>\n",
       "      <td>...<\/td>\n",
       "      <td>...<\/td>\n",
       "      <td>...<\/td>\n",
       "      <td>...<\/td>\n",
       "      <td>...<\/td>\n",
       "      <td>...<\/td>\n",
       "      <td>...<\/td>\n",
       "      <td>...<\/td>\n",
       "    <\/tr>\n",
       "    <tr>\n",
       "      <th>871<\/th>\n",
       "      <td>1<\/td>\n",
       "      <td>1<\/td>\n",
       "      <td>1<\/td>\n",
       "      <td>47.0<\/td>\n",
       "      <td>1<\/td>\n",
       "      <td>1<\/td>\n",
       "      <td>52.5542<\/td>\n",
       "      <td>3<\/td>\n",
       "    <\/tr>\n",
       "    <tr>\n",
       "      <th>872<\/th>\n",
       "      <td>0<\/td>\n",
       "      <td>1<\/td>\n",
       "      <td>0<\/td>\n",
       "      <td>33.0<\/td>\n",
       "      <td>0<\/td>\n",
       "      <td>0<\/td>\n",
       "      <td>5.0000<\/td>\n",
       "      <td>3<\/td>\n",
       "    <\/tr>\n",
       "    <tr>\n",
       "      <th>879<\/th>\n",
       "      <td>1<\/td>\n",
       "      <td>1<\/td>\n",
       "      <td>1<\/td>\n",
       "      <td>56.0<\/td>\n",
       "      <td>0<\/td>\n",
       "      <td>1<\/td>\n",
       "      <td>83.1583<\/td>\n",
       "      <td>1<\/td>\n",
       "    <\/tr>\n",
       "    <tr>\n",
       "      <th>887<\/th>\n",
       "      <td>1<\/td>\n",
       "      <td>1<\/td>\n",
       "      <td>1<\/td>\n",
       "      <td>19.0<\/td>\n",
       "      <td>0<\/td>\n",
       "      <td>0<\/td>\n",
       "      <td>30.0000<\/td>\n",
       "      <td>3<\/td>\n",
       "    <\/tr>\n",
       "    <tr>\n",
       "      <th>889<\/th>\n",
       "      <td>1<\/td>\n",
       "      <td>1<\/td>\n",
       "      <td>0<\/td>\n",
       "      <td>26.0<\/td>\n",
       "      <td>0<\/td>\n",
       "      <td>0<\/td>\n",
       "      <td>30.0000<\/td>\n",
       "      <td>1<\/td>\n",
       "    <\/tr>\n",
       "  <\/tbody>\n",
       "<\/table>\n",
       "<p>183 rows × 8 columns<\/p>\n",
       "<\/div>"
      ]
     },
     "metadata":{},
     "output_type":"display_data"
    }
   ],
   "metadata":{
    "datalore":{
     "node_id":"DD30cyB65l08TFCsZaJtPp",
     "type":"CODE",
     "hide_input_from_viewers":true,
     "hide_output_from_viewers":true
    }
   }
  },
  {
   "cell_type":"code",
   "source":[
    "from sklearn.model_selection import train_test_split\n",
    "X = df_clean.drop(columns=['Survived'])\n",
    "y = df_clean['Survived']\n",
    "\n",
    "X_train, X_test, y_train, y_test = train_test_split(X, y, test_size=0.3, stratify=y, random_state=0)"
   ],
   "execution_count":36,
   "outputs":[],
   "metadata":{
    "datalore":{
     "node_id":"rupRRKC8Puc09XKprUDsQ3",
     "type":"CODE",
     "hide_input_from_viewers":true,
     "hide_output_from_viewers":true
    }
   }
  },
  {
   "cell_type":"code",
   "source":[
    "from sklearn.metrics import confusion_matrix, precision_recall_curve, roc_curve\n",
    "from sklearn.metrics import recall_score, precision_score, f1_score\n",
    "import seaborn as sns\n",
    "import matplotlib.pyplot as plt\n",
    "from sklearn.metrics import accuracy_score"
   ],
   "execution_count":37,
   "outputs":[],
   "metadata":{
    "datalore":{
     "node_id":"J6wlysW3RIbherHPWYUc0G",
     "type":"CODE",
     "hide_input_from_viewers":true,
     "hide_output_from_viewers":true
    }
   }
  },
  {
   "cell_type":"code",
   "source":[
    "def train_and_show(clf):\n",
    "    clf.fit(X_train, y_train)\n",
    "    y_pred = clf.predict(X_test)\n",
    "    y_proba = clf.predict_proba(X_test)\n",
    "    print(\"Accuraccy: \", accuracy_score(y_test, y_pred))\n",
    "    print(\"Recall: \", recall_score(y_test, y_pred))\n",
    "    print(\"Precision: \", precision_score(y_test, y_pred))\n",
    "    print(\"F1: \", f1_score(y_test, y_pred))\n",
    "\n",
    "    cm = confusion_matrix(y_test, y_pred)\n",
    "    plt.figure(figsize=(6, 4))\n",
    "    sns.heatmap(cm)\n",
    "    plt.title(\"Heatmap\")\n",
    "    plt.show()\n",
    "\n",
    "    precisions, recalls, _ = precision_recall_curve(y_test, y_proba[:, 1])\n",
    "    plt.figure(figsize=(6, 4))\n",
    "    plt.plot(precisions, recalls, label=\"PR Curve\")\n",
    "    plt.xlabel(\"Recall\")\n",
    "    plt.ylabel(\"Precision\")\n",
    "    plt.title(\"Precision-Recall Curve\")\n",
    "    plt.grid(True)\n",
    "    plt.legend()\n",
    "    plt.show()\n",
    "\n",
    "    fpr, tpr, _ = roc_curve(y_test, y_proba[:, 1])\n",
    "    plt.figure(figsize=(6, 4))\n",
    "    plt.plot(fpr, tpr, label=f\"ROC Curve\")\n",
    "    plt.xlabel(\"False Positive Rate\")\n",
    "    plt.ylabel(\"True Positive Rate\")\n",
    "    plt.title(\"ROC Curve\")\n",
    "    plt.grid(True)\n",
    "    plt.legend()\n",
    "    plt.show()"
   ],
   "execution_count":38,
   "outputs":[],
   "metadata":{
    "datalore":{
     "node_id":"Nf7FoU0LyYmsfLYXBbDb8d",
     "type":"CODE",
     "hide_input_from_viewers":true,
     "hide_output_from_viewers":true
    }
   }
  },
  {
   "cell_type":"code",
   "source":[
    "from sklearn.linear_model import LogisticRegression\n",
    "train_and_show(LogisticRegression(max_iter = 1000, random_state=0))"
   ],
   "execution_count":39,
   "outputs":[
    {
     "name":"stdout",
     "text":[
      "Accuraccy:  0.7454545454545455\n",
      "Recall:  0.8648648648648649\n",
      "Precision:  0.7804878048780488\n",
      "F1:  0.8205128205128206\n"
     ],
     "output_type":"stream"
    },
    {
     "data":{
      "image\/png":"[encoded data removed]"
     },
     "metadata":{
      "image\/png":{}
     },
     "output_type":"display_data"
    },
    {
     "data":{
      "image\/png":"[encoded data removed]"
     },
     "metadata":{
      "image\/png":{}
     },
     "output_type":"display_data"
    },
    {
     "data":{
      "image\/png":"[encoded data removed]"
     },
     "metadata":{
      "image\/png":{}
     },
     "output_type":"display_data"
    }
   ],
   "metadata":{
    "datalore":{
     "node_id":"VO33CDTpWbuhet3WwVakdl",
     "type":"CODE",
     "hide_input_from_viewers":true,
     "hide_output_from_viewers":true
    }
   }
  },
  {
   "cell_type":"markdown",
   "source":[
    "Модель правильно классифицирует около 74.5%. Recall пропускает около 13.6%. Из всех положительно предсказанных случаев 78% действительно оказываются таковыми. F1 = 82% показывает хорошее среднее между precision и recall. Кривая PR показывает, что с увеличением recall точность падает, особенно при максимальном значении recall = 1. Модель иногда слишком \"уверена\", что объект положительный, это можно увидеть на тепловой карте. В правом нижнем углу много значений. ROC кривая нормальная. Вывод: модель хорошая."
   ],
   "attachments":{},
   "metadata":{
    "datalore":{
     "node_id":"mEl9MLwwQ8qTHVlrevygFB",
     "type":"MD",
     "hide_input_from_viewers":true,
     "hide_output_from_viewers":true
    }
   }
  },
  {
   "cell_type":"code",
   "source":[
    "from sklearn.svm import SVC\n",
    "train_and_show(SVC(kernel='linear', probability=True))"
   ],
   "execution_count":40,
   "outputs":[
    {
     "name":"stdout",
     "text":[
      "Accuraccy:  0.6909090909090909\n",
      "Recall:  0.7567567567567568\n",
      "Precision:  0.7777777777777778\n",
      "F1:  0.7671232876712328\n"
     ],
     "output_type":"stream"
    },
    {
     "data":{
      "image\/png":"[encoded data removed]"
     },
     "metadata":{
      "image\/png":{}
     },
     "output_type":"display_data"
    },
    {
     "data":{
      "image\/png":"[encoded data removed]"
     },
     "metadata":{
      "image\/png":{}
     },
     "output_type":"display_data"
    },
    {
     "data":{
      "image\/png":"[encoded data removed]"
     },
     "metadata":{
      "image\/png":{}
     },
     "output_type":"display_data"
    }
   ],
   "metadata":{
    "datalore":{
     "node_id":"GfkXS4D9LLFYOzlFuRZ0TY",
     "type":"CODE",
     "hide_input_from_viewers":true,
     "hide_output_from_viewers":true
    }
   }
  },
  {
   "cell_type":"code",
   "source":[
    "from sklearn.neighbors import KNeighborsClassifier\n",
    "train_and_show(KNeighborsClassifier())"
   ],
   "execution_count":41,
   "outputs":[
    {
     "name":"stdout",
     "text":[
      "Accuraccy:  0.6727272727272727\n",
      "Recall:  0.918918918918919\n",
      "Precision:  0.6938775510204082\n",
      "F1:  0.7906976744186046\n"
     ],
     "output_type":"stream"
    },
    {
     "data":{
      "image\/png":"[encoded data removed]"
     },
     "metadata":{
      "image\/png":{}
     },
     "output_type":"display_data"
    },
    {
     "data":{
      "image\/png":"[encoded data removed]"
     },
     "metadata":{
      "image\/png":{}
     },
     "output_type":"display_data"
    },
    {
     "data":{
      "image\/png":"[encoded data removed]"
     },
     "metadata":{
      "image\/png":{}
     },
     "output_type":"display_data"
    }
   ],
   "metadata":{
    "datalore":{
     "node_id":"LCxq7mqfTJgcdxy7sPYcbV",
     "type":"CODE",
     "hide_input_from_viewers":true,
     "hide_output_from_viewers":true
    }
   }
  },
  {
   "cell_type":"markdown",
   "source":[
    "Логистическая модель оказалась наилучшей. Модель опорных векторов намного хуже предсказывает 0, это видно из тепловой карты. PR кривая менее стабильная. Модель наибольших соседей оказалась наихудшей. Ее ROC кривая показывает, что предсказания модели близки к случайным. Очень высокий recall и маленький precision."
   ],
   "attachments":{},
   "metadata":{
    "datalore":{
     "node_id":"crEp3IFpsqM4rm1aCqMvd0",
     "type":"MD",
     "hide_input_from_viewers":true,
     "hide_output_from_viewers":true
    }
   }
  }
 ],
 "metadata":{
  "kernelspec":{
   "display_name":"Python",
   "language":"python",
   "name":"python"
  },
  "datalore":{
   "computation_mode":"JUPYTER",
   "package_manager":"pip",
   "base_environment":"default",
   "packages":[],
   "report_row_ids":[],
   "report_tabs":[],
   "version":4
  }
 },
 "nbformat":4,
 "nbformat_minor":4
}