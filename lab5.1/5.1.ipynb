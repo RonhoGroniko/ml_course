{
 "cells":[
  {
   "cell_type":"code",
   "source":[
    "import pandas as pd\n",
    "import numpy as np\n",
    "import matplotlib.pyplot as plt"
   ],
   "execution_count":1,
   "outputs":[],
   "metadata":{
    "datalore":{
     "node_id":"xu1ylWnAJyDNeDutgay15d",
     "type":"CODE",
     "hide_input_from_viewers":true,
     "hide_output_from_viewers":true
    }
   }
  },
  {
   "cell_type":"code",
   "source":[
    "df = pd.read_csv(\"diabetes.csv\")\n",
    "df"
   ],
   "execution_count":2,
   "outputs":[
    {
     "data":{
      "text\/html":[
       "<div>\n",
       "<style scoped>\n",
       "    .dataframe tbody tr th:only-of-type {\n",
       "        vertical-align: middle;\n",
       "    }\n",
       "\n",
       "    .dataframe tbody tr th {\n",
       "        vertical-align: top;\n",
       "    }\n",
       "\n",
       "    .dataframe thead th {\n",
       "        text-align: right;\n",
       "    }\n",
       "<\/style>\n",
       "<table border=\"1\" class=\"dataframe\">\n",
       "  <thead>\n",
       "    <tr style=\"text-align: right;\">\n",
       "      <th><\/th>\n",
       "      <th>Pregnancies<\/th>\n",
       "      <th>Glucose<\/th>\n",
       "      <th>BloodPressure<\/th>\n",
       "      <th>SkinThickness<\/th>\n",
       "      <th>Insulin<\/th>\n",
       "      <th>BMI<\/th>\n",
       "      <th>DiabetesPedigreeFunction<\/th>\n",
       "      <th>Age<\/th>\n",
       "      <th>Outcome<\/th>\n",
       "    <\/tr>\n",
       "  <\/thead>\n",
       "  <tbody>\n",
       "    <tr>\n",
       "      <th>0<\/th>\n",
       "      <td>6<\/td>\n",
       "      <td>148<\/td>\n",
       "      <td>72<\/td>\n",
       "      <td>35<\/td>\n",
       "      <td>0<\/td>\n",
       "      <td>33.6<\/td>\n",
       "      <td>0.627<\/td>\n",
       "      <td>50<\/td>\n",
       "      <td>1<\/td>\n",
       "    <\/tr>\n",
       "    <tr>\n",
       "      <th>1<\/th>\n",
       "      <td>1<\/td>\n",
       "      <td>85<\/td>\n",
       "      <td>66<\/td>\n",
       "      <td>29<\/td>\n",
       "      <td>0<\/td>\n",
       "      <td>26.6<\/td>\n",
       "      <td>0.351<\/td>\n",
       "      <td>31<\/td>\n",
       "      <td>0<\/td>\n",
       "    <\/tr>\n",
       "    <tr>\n",
       "      <th>2<\/th>\n",
       "      <td>8<\/td>\n",
       "      <td>183<\/td>\n",
       "      <td>64<\/td>\n",
       "      <td>0<\/td>\n",
       "      <td>0<\/td>\n",
       "      <td>23.3<\/td>\n",
       "      <td>0.672<\/td>\n",
       "      <td>32<\/td>\n",
       "      <td>1<\/td>\n",
       "    <\/tr>\n",
       "    <tr>\n",
       "      <th>3<\/th>\n",
       "      <td>1<\/td>\n",
       "      <td>89<\/td>\n",
       "      <td>66<\/td>\n",
       "      <td>23<\/td>\n",
       "      <td>94<\/td>\n",
       "      <td>28.1<\/td>\n",
       "      <td>0.167<\/td>\n",
       "      <td>21<\/td>\n",
       "      <td>0<\/td>\n",
       "    <\/tr>\n",
       "    <tr>\n",
       "      <th>4<\/th>\n",
       "      <td>0<\/td>\n",
       "      <td>137<\/td>\n",
       "      <td>40<\/td>\n",
       "      <td>35<\/td>\n",
       "      <td>168<\/td>\n",
       "      <td>43.1<\/td>\n",
       "      <td>2.288<\/td>\n",
       "      <td>33<\/td>\n",
       "      <td>1<\/td>\n",
       "    <\/tr>\n",
       "    <tr>\n",
       "      <th>...<\/th>\n",
       "      <td>...<\/td>\n",
       "      <td>...<\/td>\n",
       "      <td>...<\/td>\n",
       "      <td>...<\/td>\n",
       "      <td>...<\/td>\n",
       "      <td>...<\/td>\n",
       "      <td>...<\/td>\n",
       "      <td>...<\/td>\n",
       "      <td>...<\/td>\n",
       "    <\/tr>\n",
       "    <tr>\n",
       "      <th>763<\/th>\n",
       "      <td>10<\/td>\n",
       "      <td>101<\/td>\n",
       "      <td>76<\/td>\n",
       "      <td>48<\/td>\n",
       "      <td>180<\/td>\n",
       "      <td>32.9<\/td>\n",
       "      <td>0.171<\/td>\n",
       "      <td>63<\/td>\n",
       "      <td>0<\/td>\n",
       "    <\/tr>\n",
       "    <tr>\n",
       "      <th>764<\/th>\n",
       "      <td>2<\/td>\n",
       "      <td>122<\/td>\n",
       "      <td>70<\/td>\n",
       "      <td>27<\/td>\n",
       "      <td>0<\/td>\n",
       "      <td>36.8<\/td>\n",
       "      <td>0.340<\/td>\n",
       "      <td>27<\/td>\n",
       "      <td>0<\/td>\n",
       "    <\/tr>\n",
       "    <tr>\n",
       "      <th>765<\/th>\n",
       "      <td>5<\/td>\n",
       "      <td>121<\/td>\n",
       "      <td>72<\/td>\n",
       "      <td>23<\/td>\n",
       "      <td>112<\/td>\n",
       "      <td>26.2<\/td>\n",
       "      <td>0.245<\/td>\n",
       "      <td>30<\/td>\n",
       "      <td>0<\/td>\n",
       "    <\/tr>\n",
       "    <tr>\n",
       "      <th>766<\/th>\n",
       "      <td>1<\/td>\n",
       "      <td>126<\/td>\n",
       "      <td>60<\/td>\n",
       "      <td>0<\/td>\n",
       "      <td>0<\/td>\n",
       "      <td>30.1<\/td>\n",
       "      <td>0.349<\/td>\n",
       "      <td>47<\/td>\n",
       "      <td>1<\/td>\n",
       "    <\/tr>\n",
       "    <tr>\n",
       "      <th>767<\/th>\n",
       "      <td>1<\/td>\n",
       "      <td>93<\/td>\n",
       "      <td>70<\/td>\n",
       "      <td>31<\/td>\n",
       "      <td>0<\/td>\n",
       "      <td>30.4<\/td>\n",
       "      <td>0.315<\/td>\n",
       "      <td>23<\/td>\n",
       "      <td>0<\/td>\n",
       "    <\/tr>\n",
       "  <\/tbody>\n",
       "<\/table>\n",
       "<p>768 rows × 9 columns<\/p>\n",
       "<\/div>"
      ]
     },
     "metadata":{},
     "output_type":"display_data"
    }
   ],
   "metadata":{
    "datalore":{
     "node_id":"iVhMTHRevU0DyagXy4HRPl",
     "type":"CODE",
     "hide_input_from_viewers":true,
     "hide_output_from_viewers":true
    }
   }
  },
  {
   "cell_type":"code",
   "source":[
    "from sklearn.model_selection import train_test_split\n",
    "X = df.drop(columns=['Outcome'])\n",
    "y = df['Outcome']\n",
    "\n",
    "X_train, X_test, y_train, y_test = train_test_split(X, y, test_size=0.3, stratify=y, random_state=0)"
   ],
   "execution_count":3,
   "outputs":[],
   "metadata":{
    "datalore":{
     "node_id":"OM21Zf9OyQTDwpxLJHbAcu",
     "type":"CODE",
     "hide_input_from_viewers":true,
     "hide_output_from_viewers":true
    }
   }
  },
  {
   "cell_type":"code",
   "source":[
    "from sklearn.linear_model import LogisticRegression\n",
    "from sklearn.metrics import accuracy_score, precision_score, recall_score, f1_score\n",
    "clf = LogisticRegression(max_iter = 1000, random_state=0)\n",
    "clf.fit(X_train, y_train)\n",
    "y_pred = clf.predict(X_test)\n",
    "print(\"Logistic Regression:\\n\",\n",
    "      \"Accuracy: \", accuracy_score(y_test, y_pred), \"\\n\",\n",
    "      \"Precision: \", precision_score(y_test, y_pred), \"\\n\",\n",
    "      \"Recall: \", recall_score(y_test, y_pred), \"\\n\",\n",
    "      \"F1: \", f1_score(y_test, y_pred))"
   ],
   "execution_count":4,
   "outputs":[
    {
     "name":"stdout",
     "text":[
      "Logistic Regression:\n",
      " Accuracy:  0.7748917748917749 \n",
      " Precision:  0.7301587301587301 \n",
      " Recall:  0.5679012345679012 \n",
      " F1:  0.6388888888888888\n"
     ],
     "output_type":"stream"
    }
   ],
   "metadata":{
    "datalore":{
     "node_id":"W5mxETvXrt59mlMEjJFuOf",
     "type":"CODE",
     "hide_input_from_viewers":true,
     "hide_output_from_viewers":true
    }
   }
  },
  {
   "cell_type":"code",
   "source":[
    "from sklearn.tree import DecisionTreeClassifier\n",
    "tree = DecisionTreeClassifier(random_state=0)\n",
    "tree.fit(X_train, y_train)\n",
    "y_pred_tree = tree.predict(X_test)\n",
    "print(\"Decision Tree:\\n\", \n",
    "      \"Accuracy: \", accuracy_score(y_test, y_pred_tree), \"\\n\",\n",
    "      \"Precision: \", precision_score(y_test, y_pred_tree), \"\\n\",\n",
    "      \"Recall: \", recall_score(y_test, y_pred_tree), \"\\n\",\n",
    "      \"F1: \", f1_score(y_test, y_pred_tree))"
   ],
   "execution_count":5,
   "outputs":[
    {
     "name":"stdout",
     "text":[
      "Decision Tree:\n",
      " Accuracy:  0.7012987012987013 \n",
      " Precision:  0.573170731707317 \n",
      " Recall:  0.5802469135802469 \n",
      " F1:  0.5766871165644172\n"
     ],
     "output_type":"stream"
    }
   ],
   "metadata":{
    "datalore":{
     "node_id":"eYuK1jKfVQsfQOo7XxgfgX",
     "type":"CODE",
     "hide_input_from_viewers":true,
     "hide_output_from_viewers":true
    }
   }
  },
  {
   "cell_type":"markdown",
   "source":[
    "Логистическая регрессия превосходит решающее дерево по всем метрикам, кроме Recall. Она подходит лучше."
   ],
   "attachments":{},
   "metadata":{
    "datalore":{
     "node_id":"Oykf2Vjp4qxWV1857mXMbN",
     "type":"MD",
     "hide_input_from_viewers":true,
     "hide_output_from_viewers":true
    }
   }
  },
  {
   "cell_type":"code",
   "source":[
    "class_counts = df['Outcome'].value_counts()\n",
    "class_counts.plot(kind='bar', color=[\"skyblue\", \"salmon\"])\n",
    "plt.xticks([0, 1], ['(0)', '(1)'], rotation=0)\n",
    "plt.title(\"Распределение классов (Outcome)\")\n",
    "plt.ylabel(\"Количество пациентов\")\n",
    "plt.grid(axis='y')\n",
    "plt.show()"
   ],
   "execution_count":6,
   "outputs":[
    {
     "data":{
      "image\/png":"[encoded data removed]"
     },
     "metadata":{
      "image\/png":{}
     },
     "output_type":"display_data"
    }
   ],
   "metadata":{
    "datalore":{
     "node_id":"n5mTJQ5SJtKDNK6ezWxZTT",
     "type":"CODE",
     "hide_input_from_viewers":true,
     "hide_output_from_viewers":true
    }
   }
  },
  {
   "cell_type":"markdown",
   "source":[
    "Видим, что классы несбалансированы, следовательно, нужно выбрать F1 score, т.к она наиболее эффективна для несбалансированных классов."
   ],
   "attachments":{},
   "metadata":{
    "datalore":{
     "node_id":"lMPzOgyCTBMKT651y1jlUX",
     "type":"MD",
     "hide_input_from_viewers":true,
     "hide_output_from_viewers":true
    }
   }
  },
  {
   "cell_type":"code",
   "source":[
    "from sklearn.metrics import f1_score\n",
    "import matplotlib.pyplot as plt\n",
    "\n",
    "depths = range(1, 100)\n",
    "f1_scores = []\n",
    "\n",
    "max_depth = 0\n",
    "max_f1 = 0\n",
    "for d in depths:\n",
    "    tree = DecisionTreeClassifier(max_depth=d, random_state=42)\n",
    "    tree.fit(X_train, y_train)\n",
    "    pred = tree.predict(X_test)\n",
    "    score = f1_score(y_test, pred)\n",
    "    f1_scores.append(score)\n",
    "    \n",
    "    if score > max_f1:\n",
    "        max_f1 = score\n",
    "        max_depth = d\n",
    "\n",
    "plt.plot(depths, f1_scores, marker='o')\n",
    "plt.xlabel(\"Глубина дерева\")\n",
    "plt.ylabel(\"F1-score\")\n",
    "plt.title(\"Зависимость F1-score от глубины дерева\")\n",
    "plt.grid()\n",
    "plt.show()"
   ],
   "execution_count":7,
   "outputs":[
    {
     "data":{
      "image\/png":"[encoded data removed]"
     },
     "metadata":{
      "image\/png":{}
     },
     "output_type":"display_data"
    }
   ],
   "metadata":{
    "datalore":{
     "node_id":"NQuDpSOPGBqaCbNQq2odXp",
     "type":"CODE",
     "hide_input_from_viewers":true,
     "hide_output_from_viewers":true
    }
   }
  },
  {
   "cell_type":"code",
   "source":[
    "import graphviz\n",
    "from sklearn import tree\n",
    "\n",
    "optimal_tree = DecisionTreeClassifier(max_depth=max_depth)\n",
    "optimal_tree.fit(X_train, y_train)\n",
    "\n",
    "dot_data = tree.export_graphviz(optimal_tree, out_file=None, \n",
    "                                feature_names=df.columns[:-1],\n",
    "                                class_names=[\"0\", \"1\"],\n",
    "                                filled=True, rounded=True,\n",
    "                                special_characters=True)\n",
    "graph = graphviz.Source(dot_data)\n",
    "graph.render()"
   ],
   "execution_count":9,
   "outputs":[
    {
     "ename":"ExecutableNotFound",
     "evalue":"ExecutableNotFound: failed to execute PosixPath('dot'), make sure the Graphviz executables are on your systems' PATH",
     "traceback":[
      "\u001b[0;31m---------------------------------------------------------------------------",
      "Traceback (most recent call last)",
      "    at line 13 in <module>",
      "    at line 171 in wrapper(*args, **kwargs)",
      "    at line 122 in render(self, filename, directory, view, cleanup, format, renderer, formatter, neato_no_op, quiet, quiet_view, outfile, engine, raise_if_result_exists, overwrite_source)",
      "    at line 171 in wrapper(*args, **kwargs)",
      "    at line 326 in render(engine, format, filepath, renderer, formatter, neato_no_op, quiet, outfile, raise_if_result_exists, overwrite_filepath)",
      "    at line 81 in run_check(cmd, input_lines, encoding, quiet, **kwargs)",
      "ExecutableNotFound: failed to execute PosixPath('dot'), make sure the Graphviz executables are on your systems' PATH"
     ],
     "output_type":"error"
    }
   ],
   "metadata":{
    "datalore":{
     "node_id":"1lAJAh5PePT6oNcqSylPOg",
     "type":"CODE",
     "hide_input_from_viewers":true,
     "hide_output_from_viewers":true
    }
   }
  }
 ],
 "metadata":{
  "kernelspec":{
   "display_name":"Python",
   "language":"python",
   "name":"python"
  },
  "datalore":{
   "computation_mode":"JUPYTER",
   "package_manager":"pip",
   "base_environment":"default",
   "packages":[
    {
     "name":"graphviz",
     "source":"PIP"
    }
   ],
   "report_row_ids":[],
   "report_tabs":[],
   "version":4
  }
 },
 "nbformat":4,
 "nbformat_minor":4
}